{
  "nbformat": 4,
  "nbformat_minor": 0,
  "metadata": {
    "colab": {
      "name": "Copy of Untitled1.ipynb",
      "provenance": [],
      "collapsed_sections": [],
      "mount_file_id": "1fHxoACQkiujN2z_Hh1gtzhmWEoSjmdP4",
      "authorship_tag": "ABX9TyNwE0C3HXPktGr7B7FXzD63",
      "include_colab_link": true
    },
    "kernelspec": {
      "name": "python3",
      "display_name": "Python 3"
    },
    "language_info": {
      "name": "python"
    }
  },
  "cells": [
    {
      "cell_type": "markdown",
      "metadata": {
        "id": "view-in-github",
        "colab_type": "text"
      },
      "source": [
        "<a href=\"https://colab.research.google.com/github/TPV7/Heartbeatiot/blob/main/Instruction%26Trainings.ipynb\" target=\"_parent\"><img src=\"https://colab.research.google.com/assets/colab-badge.svg\" alt=\"Open In Colab\"/></a>"
      ]
    },
    {
      "cell_type": "code",
      "execution_count": null,
      "metadata": {
        "colab": {
          "base_uri": "https://localhost:8080/",
          "height": 363
        },
        "id": "JCjyjvjUAO3t",
        "outputId": "b72881fc-a82a-41ac-c5e1-97ff1718b13f"
      },
      "outputs": [
        {
          "output_type": "execute_result",
          "data": {
            "text/plain": [
              "                      Instructions  Importance\n",
              "0         Health Mandated training          25\n",
              "1         Safety Mandated training          76\n",
              "2           Human resource process          60\n",
              "3        Technical skills training          39\n",
              "4         Product/service training          29\n",
              "5              Compliance training          32\n",
              "6   Managerial/leadership training          56\n",
              "7      Relationship skill building          61\n",
              "8  Training for project management          58\n",
              "9                       e-Learning          52"
            ],
            "text/html": [
              "\n",
              "  <div id=\"df-e43f1359-39e3-4a33-b86e-9af20fb85dfe\">\n",
              "    <div class=\"colab-df-container\">\n",
              "      <div>\n",
              "<style scoped>\n",
              "    .dataframe tbody tr th:only-of-type {\n",
              "        vertical-align: middle;\n",
              "    }\n",
              "\n",
              "    .dataframe tbody tr th {\n",
              "        vertical-align: top;\n",
              "    }\n",
              "\n",
              "    .dataframe thead th {\n",
              "        text-align: right;\n",
              "    }\n",
              "</style>\n",
              "<table border=\"1\" class=\"dataframe\">\n",
              "  <thead>\n",
              "    <tr style=\"text-align: right;\">\n",
              "      <th></th>\n",
              "      <th>Instructions</th>\n",
              "      <th>Importance</th>\n",
              "    </tr>\n",
              "  </thead>\n",
              "  <tbody>\n",
              "    <tr>\n",
              "      <th>0</th>\n",
              "      <td>Health Mandated training</td>\n",
              "      <td>25</td>\n",
              "    </tr>\n",
              "    <tr>\n",
              "      <th>1</th>\n",
              "      <td>Safety Mandated training</td>\n",
              "      <td>76</td>\n",
              "    </tr>\n",
              "    <tr>\n",
              "      <th>2</th>\n",
              "      <td>Human resource process</td>\n",
              "      <td>60</td>\n",
              "    </tr>\n",
              "    <tr>\n",
              "      <th>3</th>\n",
              "      <td>Technical skills training</td>\n",
              "      <td>39</td>\n",
              "    </tr>\n",
              "    <tr>\n",
              "      <th>4</th>\n",
              "      <td>Product/service training</td>\n",
              "      <td>29</td>\n",
              "    </tr>\n",
              "    <tr>\n",
              "      <th>5</th>\n",
              "      <td>Compliance training</td>\n",
              "      <td>32</td>\n",
              "    </tr>\n",
              "    <tr>\n",
              "      <th>6</th>\n",
              "      <td>Managerial/leadership training</td>\n",
              "      <td>56</td>\n",
              "    </tr>\n",
              "    <tr>\n",
              "      <th>7</th>\n",
              "      <td>Relationship skill building</td>\n",
              "      <td>61</td>\n",
              "    </tr>\n",
              "    <tr>\n",
              "      <th>8</th>\n",
              "      <td>Training for project management</td>\n",
              "      <td>58</td>\n",
              "    </tr>\n",
              "    <tr>\n",
              "      <th>9</th>\n",
              "      <td>e-Learning</td>\n",
              "      <td>52</td>\n",
              "    </tr>\n",
              "  </tbody>\n",
              "</table>\n",
              "</div>\n",
              "      <button class=\"colab-df-convert\" onclick=\"convertToInteractive('df-e43f1359-39e3-4a33-b86e-9af20fb85dfe')\"\n",
              "              title=\"Convert this dataframe to an interactive table.\"\n",
              "              style=\"display:none;\">\n",
              "        \n",
              "  <svg xmlns=\"http://www.w3.org/2000/svg\" height=\"24px\"viewBox=\"0 0 24 24\"\n",
              "       width=\"24px\">\n",
              "    <path d=\"M0 0h24v24H0V0z\" fill=\"none\"/>\n",
              "    <path d=\"M18.56 5.44l.94 2.06.94-2.06 2.06-.94-2.06-.94-.94-2.06-.94 2.06-2.06.94zm-11 1L8.5 8.5l.94-2.06 2.06-.94-2.06-.94L8.5 2.5l-.94 2.06-2.06.94zm10 10l.94 2.06.94-2.06 2.06-.94-2.06-.94-.94-2.06-.94 2.06-2.06.94z\"/><path d=\"M17.41 7.96l-1.37-1.37c-.4-.4-.92-.59-1.43-.59-.52 0-1.04.2-1.43.59L10.3 9.45l-7.72 7.72c-.78.78-.78 2.05 0 2.83L4 21.41c.39.39.9.59 1.41.59.51 0 1.02-.2 1.41-.59l7.78-7.78 2.81-2.81c.8-.78.8-2.07 0-2.86zM5.41 20L4 18.59l7.72-7.72 1.47 1.35L5.41 20z\"/>\n",
              "  </svg>\n",
              "      </button>\n",
              "      \n",
              "  <style>\n",
              "    .colab-df-container {\n",
              "      display:flex;\n",
              "      flex-wrap:wrap;\n",
              "      gap: 12px;\n",
              "    }\n",
              "\n",
              "    .colab-df-convert {\n",
              "      background-color: #E8F0FE;\n",
              "      border: none;\n",
              "      border-radius: 50%;\n",
              "      cursor: pointer;\n",
              "      display: none;\n",
              "      fill: #1967D2;\n",
              "      height: 32px;\n",
              "      padding: 0 0 0 0;\n",
              "      width: 32px;\n",
              "    }\n",
              "\n",
              "    .colab-df-convert:hover {\n",
              "      background-color: #E2EBFA;\n",
              "      box-shadow: 0px 1px 2px rgba(60, 64, 67, 0.3), 0px 1px 3px 1px rgba(60, 64, 67, 0.15);\n",
              "      fill: #174EA6;\n",
              "    }\n",
              "\n",
              "    [theme=dark] .colab-df-convert {\n",
              "      background-color: #3B4455;\n",
              "      fill: #D2E3FC;\n",
              "    }\n",
              "\n",
              "    [theme=dark] .colab-df-convert:hover {\n",
              "      background-color: #434B5C;\n",
              "      box-shadow: 0px 1px 3px 1px rgba(0, 0, 0, 0.15);\n",
              "      filter: drop-shadow(0px 1px 2px rgba(0, 0, 0, 0.3));\n",
              "      fill: #FFFFFF;\n",
              "    }\n",
              "  </style>\n",
              "\n",
              "      <script>\n",
              "        const buttonEl =\n",
              "          document.querySelector('#df-e43f1359-39e3-4a33-b86e-9af20fb85dfe button.colab-df-convert');\n",
              "        buttonEl.style.display =\n",
              "          google.colab.kernel.accessAllowed ? 'block' : 'none';\n",
              "\n",
              "        async function convertToInteractive(key) {\n",
              "          const element = document.querySelector('#df-e43f1359-39e3-4a33-b86e-9af20fb85dfe');\n",
              "          const dataTable =\n",
              "            await google.colab.kernel.invokeFunction('convertToInteractive',\n",
              "                                                     [key], {});\n",
              "          if (!dataTable) return;\n",
              "\n",
              "          const docLinkHtml = 'Like what you see? Visit the ' +\n",
              "            '<a target=\"_blank\" href=https://colab.research.google.com/notebooks/data_table.ipynb>data table notebook</a>'\n",
              "            + ' to learn more about interactive tables.';\n",
              "          element.innerHTML = '';\n",
              "          dataTable['output_type'] = 'display_data';\n",
              "          await google.colab.output.renderOutput(dataTable, element);\n",
              "          const docLink = document.createElement('div');\n",
              "          docLink.innerHTML = docLinkHtml;\n",
              "          element.appendChild(docLink);\n",
              "        }\n",
              "      </script>\n",
              "    </div>\n",
              "  </div>\n",
              "  "
            ]
          },
          "metadata": {},
          "execution_count": 10
        }
      ],
      "source": [
        "import pandas as pd \n",
        "df=pd.read_csv(\"/content/drive/MyDrive/IT 496 a-3.csv\")\n",
        "df.head(10)"
      ]
    },
    {
      "cell_type": "code",
      "source": [
        "import pandas as pd\n",
        "import matplotlib.pyplot as plt\n",
        "from matplotlib.ticker import PercentFormatter\n",
        "df=pd.read_csv(\"/content/drive/MyDrive/IT 496 a-3.csv\")\n",
        "print(df)"
      ],
      "metadata": {
        "colab": {
          "base_uri": "https://localhost:8080/"
        },
        "id": "p9Lv3QlbAmdH",
        "outputId": "bbb130f0-3ac8-4e28-e14d-3b763b6bb5fb"
      },
      "execution_count": null,
      "outputs": [
        {
          "output_type": "stream",
          "name": "stdout",
          "text": [
            "                      Instructions  Importance\n",
            "0         Health Mandated training          25\n",
            "1         Safety Mandated training          76\n",
            "2           Human resource process          60\n",
            "3        Technical skills training          39\n",
            "4         Product/service training          29\n",
            "5              Compliance training          32\n",
            "6   Managerial/leadership training          56\n",
            "7      Relationship skill building          61\n",
            "8  Training for project management          58\n",
            "9                       e-Learning          52\n"
          ]
        }
      ]
    },
    {
      "cell_type": "code",
      "source": [
        "df.index = df['Instructions']\n",
        "df =  df.sort_values(by= 'Importance',ascending=False)\n",
        "print(df)"
      ],
      "metadata": {
        "colab": {
          "base_uri": "https://localhost:8080/"
        },
        "id": "vJC7kS5uAskX",
        "outputId": "38c3762b-ac22-4f03-b5ee-bd90f1b310c3"
      },
      "execution_count": null,
      "outputs": [
        {
          "output_type": "stream",
          "name": "stdout",
          "text": [
            "                                                    Instructions  Importance\n",
            "Instructions                                                                \n",
            "Safety Mandated training                Safety Mandated training          76\n",
            "Relationship skill building          Relationship skill building          61\n",
            "Human resource process                    Human resource process          60\n",
            "Training for project management  Training for project management          58\n",
            "Managerial/leadership training    Managerial/leadership training          56\n",
            "e-Learning                                            e-Learning          52\n",
            " Technical skills training             Technical skills training          39\n",
            " Compliance training                         Compliance training          32\n",
            " Product/service training               Product/service training          29\n",
            " Health Mandated training               Health Mandated training          25\n"
          ]
        }
      ]
    },
    {
      "cell_type": "code",
      "source": [
        "df[\"cumulativePercentage\"]=df[\"Importance\"].cumsum()/df[\"Importance\"].sum()*100\n",
        "df[\"cumulativePercentage\"]=df[\"cumulativePercentage\"].apply(lambda x: round(x,2))\n",
        "print(df)"
      ],
      "metadata": {
        "colab": {
          "base_uri": "https://localhost:8080/"
        },
        "id": "blZkqeZqBwQ2",
        "outputId": "7b83576d-9770-4ba9-a3af-6bd9f94c50e4"
      },
      "execution_count": null,
      "outputs": [
        {
          "output_type": "stream",
          "name": "stdout",
          "text": [
            "                                                    Instructions  Importance  \\\n",
            "Instructions                                                                   \n",
            "Safety Mandated training                Safety Mandated training          76   \n",
            "Relationship skill building          Relationship skill building          61   \n",
            "Human resource process                    Human resource process          60   \n",
            "Training for project management  Training for project management          58   \n",
            "Managerial/leadership training    Managerial/leadership training          56   \n",
            "e-Learning                                            e-Learning          52   \n",
            " Technical skills training             Technical skills training          39   \n",
            " Compliance training                         Compliance training          32   \n",
            " Product/service training               Product/service training          29   \n",
            " Health Mandated training               Health Mandated training          25   \n",
            "\n",
            "                                 cumulativePercentage  \n",
            "Instructions                                           \n",
            "Safety Mandated training                        15.57  \n",
            "Relationship skill building                     28.07  \n",
            "Human resource process                          40.37  \n",
            "Training for project management                 52.25  \n",
            "Managerial/leadership training                  63.73  \n",
            "e-Learning                                      74.39  \n",
            " Technical skills training                      82.38  \n",
            " Compliance training                            88.93  \n",
            " Product/service training                       94.88  \n",
            " Health Mandated training                      100.00  \n"
          ]
        }
      ]
    },
    {
      "cell_type": "code",
      "source": [
        "fig, ax = plt.subplots()\n",
        "ax.bar(df.index, df[\"Importance\"], color=\"C0\")\n",
        "ax.set_xticklabels(df['Instructions'], rotation=45)\n",
        "ax2 = ax.twinx()\n",
        "ax2.plot(df.index, df[\"cumulativePercentage\"], color=\"C1\", marker=\"D\", ms=7\n",
        "         , label=df['cumulativePercentage'])\n",
        "ax2.yaxis.set_major_formatter(PercentFormatter())\n",
        "ax.tick_params(axis=\"y\", colors=\"C0\")\n",
        "ax2.tick_params(axis=\"y\", colors=\"C1\")\n",
        "\n",
        "for index, v in df.iterrows():\n",
        "  label = round(v['cumulativePercentage'],1)\n",
        "  plt.annotate(label, xy=(v['Instructions'],v['cumulativePercentage']))"
      ],
      "metadata": {
        "colab": {
          "base_uri": "https://localhost:8080/",
          "height": 378
        },
        "id": "SG-WtgOvCOUX",
        "outputId": "915fc51a-a260-4bd2-8379-33a1e0dba722"
      },
      "execution_count": null,
      "outputs": [
        {
          "output_type": "display_data",
          "data": {
            "text/plain": [
              "<Figure size 432x288 with 2 Axes>"
            ],
            "image/png": "[encoded data removed]"
          },
          "metadata": {}
        }
      ]
    }
  ]
}