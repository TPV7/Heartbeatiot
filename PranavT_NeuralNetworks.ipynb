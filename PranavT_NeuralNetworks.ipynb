{
  "nbformat": 4,
  "nbformat_minor": 0,
  "metadata": {
    "colab": {
      "name": "PranavT_NeuralNetworks.ipynb",
      "provenance": [],
      "authorship_tag": "ABX9TyNlL81iUPCjq1j5/53z/Mmp",
      "include_colab_link": true
    },
    "kernelspec": {
      "name": "python3",
      "display_name": "Python 3"
    },
    "language_info": {
      "name": "python"
    }
  },
  "cells": [
    {
      "cell_type": "markdown",
      "metadata": {
        "id": "view-in-github",
        "colab_type": "text"
      },
      "source": [
        "<a href=\"https://colab.research.google.com/github/TPV7/Heartbeatiot/blob/main/PranavT_NeuralNetworks.ipynb\" target=\"_parent\"><img src=\"https://colab.research.google.com/assets/colab-badge.svg\" alt=\"Open In Colab\"/></a>"
      ]
    },
    {
      "cell_type": "code",
      "source": [
        ""
      ],
      "metadata": {
        "id": "zt5CkA2GdDPa"
      },
      "execution_count": null,
      "outputs": []
    },
    {
      "cell_type": "code",
      "source": [
        "from __future__ import absolute_import, division, print_function, unicode_literals\n",
        "import tensorflow as tf\n",
        "from tensorflow import keras\n",
        "import numpy as np \n",
        "import matplotlib.pyplot as plt\n",
        "\n",
        "print(tf.__version__)\n"
      ],
      "metadata": {
        "colab": {
          "base_uri": "https://localhost:8080/"
        },
        "id": "hEEbq76vdKeV",
        "outputId": "800be943-5712-4a0f-e172-31e6ef37af9d"
      },
      "execution_count": 10,
      "outputs": [
        {
          "output_type": "stream",
          "name": "stdout",
          "text": [
            "2.8.2\n"
          ]
        }
      ]
    },
    {
      "cell_type": "code",
      "source": [
        "fashion_mnist=keras.datasets.fashion_mnist\n",
        "(train_images,train_labels), (test_images, test_labels)=fashion_mnist.load_data()\n",
        "\n",
        "class_names=['T-shirt/top','Trouser','Pullover','coat','Sandal', 'shirt','Sneaker','Bag','Ankel boot']\n",
        "\n",
        "print('size of the image train dataset:',train_images.shape)\n",
        "print('length of the labels:',len(train_labels))\n",
        "print('these are labels;',train_labels)\n",
        "print('size of the test dataset;',test_images.shape)\n",
        "print('length of the labels for test data',len(test_labels))\n",
        "\n",
        "plt.figure()\n",
        "plt.imshow(train_images[8])\n",
        "plt.colorbar()\n",
        "plt.grid(False)\n",
        "plt.show()\n",
        "train_images=train_images/255.0\n",
        "test_images=test_images/255.0\n",
        "plt.figure()\n",
        "plt.imshow(train_images[1], cmap=plt.cm.binary)\n",
        "plt.grid(False)\n",
        "plt.show()"
      ],
      "metadata": {
        "colab": {
          "base_uri": "https://localhost:8080/",
          "height": 600
        },
        "id": "5teHYQmnfSkQ",
        "outputId": "add5d054-2f41-4b5f-fbf5-30c4691ca0ef"
      },
      "execution_count": 16,
      "outputs": [
        {
          "output_type": "stream",
          "name": "stdout",
          "text": [
            "size of the image train dataset: (60000, 28, 28)\n",
            "length of the labels: 60000\n",
            "these are labels; [9 0 0 ... 3 0 5]\n",
            "size of the test dataset; (10000, 28, 28)\n",
            "length of the labels for test data 10000\n"
          ]
        },
        {
          "output_type": "display_data",
          "data": {
            "text/plain": [
              "<Figure size 432x288 with 2 Axes>"
            ],
            "image/png": "[encoded data removed]"
          },
          "metadata": {
            "needs_background": "light"
          }
        },
        {
          "output_type": "display_data",
          "data": {
            "text/plain": [
              "<Figure size 432x288 with 1 Axes>"
            ],
            "image/png": "[encoded data removed]"
          },
          "metadata": {
            "needs_background": "light"
          }
        }
      ]
    },
    {
      "cell_type": "code",
      "source": [
        "from keras.layers import Dense, Flatten\n",
        "myModel=keras.Sequential([\n",
        "keras.layers.Flatten(input_shape=(28,28)),\n",
        "keras.layers.Dense(128,activation='relu'),\n",
        "keras.layers.Dense(10,activation='softmax')\n",
        "])\n",
        "myModel.compile(optimizer='adam', loss='sparse_categorical_crossentropy', metrics=['accuracy'])\n",
        "myModel.fit(train_images, train_labels, epochs=10)\n",
        "test_loss, test_acc=myModel.evaluate(test_images, test_labels, verbose=2)\n",
        "print('\\nTest accuracy:', test_acc)\n",
        "predictions=myModel.predict(test_images)\n",
        "np.argmax(predictions[0])"
      ],
      "metadata": {
        "colab": {
          "base_uri": "https://localhost:8080/"
        },
        "id": "j_HnJkNbiHGt",
        "outputId": "1a6e10f1-d272-4551-812a-46e764915003"
      },
      "execution_count": 17,
      "outputs": [
        {
          "output_type": "stream",
          "name": "stdout",
          "text": [
            "Epoch 1/10\n",
            "1875/1875 [==============================] - 4s 2ms/step - loss: 0.5001 - accuracy: 0.8235\n",
            "Epoch 2/10\n",
            "1875/1875 [==============================] - 3s 2ms/step - loss: 0.3734 - accuracy: 0.8664\n",
            "Epoch 3/10\n",
            "1875/1875 [==============================] - 4s 2ms/step - loss: 0.3383 - accuracy: 0.8766\n",
            "Epoch 4/10\n",
            "1875/1875 [==============================] - 5s 2ms/step - loss: 0.3112 - accuracy: 0.8863\n",
            "Epoch 5/10\n",
            "1875/1875 [==============================] - 3s 2ms/step - loss: 0.2926 - accuracy: 0.8930\n",
            "Epoch 6/10\n",
            "1875/1875 [==============================] - 3s 2ms/step - loss: 0.2793 - accuracy: 0.8964\n",
            "Epoch 7/10\n",
            "1875/1875 [==============================] - 5s 3ms/step - loss: 0.2654 - accuracy: 0.9036\n",
            "Epoch 8/10\n",
            "1875/1875 [==============================] - 3s 2ms/step - loss: 0.2563 - accuracy: 0.9049\n",
            "Epoch 9/10\n",
            "1875/1875 [==============================] - 4s 2ms/step - loss: 0.2462 - accuracy: 0.9094\n",
            "Epoch 10/10\n",
            "1875/1875 [==============================] - 3s 2ms/step - loss: 0.2369 - accuracy: 0.9122\n",
            "313/313 - 0s - loss: 0.3605 - accuracy: 0.8783 - 382ms/epoch - 1ms/step\n",
            "\n",
            "Test accuracy: 0.8783000111579895\n"
          ]
        },
        {
          "output_type": "execute_result",
          "data": {
            "text/plain": [
              "9"
            ]
          },
          "metadata": {},
          "execution_count": 17
        }
      ]
    },
    {
      "cell_type": "code",
      "source": [
        ""
      ],
      "metadata": {
        "id": "K4tNNrWzfhOl"
      },
      "execution_count": null,
      "outputs": []
    }
  ]
}