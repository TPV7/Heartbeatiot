{
  "nbformat": 4,
  "nbformat_minor": 0,
  "metadata": {
    "colab": {
      "name": "PranavT_Criticalpath.ipynb",
      "provenance": [],
      "mount_file_id": "1s0sPLdkWLoa6PG3loQW41LW-0QvumNu7",
      "authorship_tag": "ABX9TyPD7HzY4Z0wtsJH7uvQ/hUd",
      "include_colab_link": true
    },
    "kernelspec": {
      "name": "python3",
      "display_name": "Python 3"
    },
    "language_info": {
      "name": "python"
    }
  },
  "cells": [
    {
      "cell_type": "markdown",
      "metadata": {
        "id": "view-in-github",
        "colab_type": "text"
      },
      "source": [
        "<a href=\"https://colab.research.google.com/github/TPV7/Heartbeatiot/blob/main/PranavT_Criticalpath.ipynb\" target=\"_parent\"><img src=\"https://colab.research.google.com/assets/colab-badge.svg\" alt=\"Open In Colab\"/></a>"
      ]
    },
    {
      "cell_type": "code",
      "source": [
        "import pandas as pd\n",
        "import tensorflow_probability as tfp\n",
        "tfd=tfp.distributions\n",
        "\n",
        "tasksDF=pd.read_csv('/content/drive/MyDrive/PERT-CPM.csv')\n",
        "taskNames=tasksDF['tasks']\n",
        "\n",
        "simulationDF=pd.DataFrame(columns=taskNames)\n",
        "\n",
        "print(simulationDF.columns)\n",
        "\n",
        "for index, task in tasksDF.iterrows():\n",
        "  dist=tfd.PERT(low=task['best'], peak=task['mostL'], high=task['worst'],temperature=4)\n",
        "  simulationDF[task['tasks']]=dist.sample(1000)\n",
        "\n",
        "print(simulationDF)"
      ],
      "metadata": {
        "colab": {
          "base_uri": "https://localhost:8080/"
        },
        "id": "0PwVKdoGbInM",
        "outputId": "8a669a58-4be8-4f50-f748-f0f3d01eeca6"
      },
      "execution_count": 28,
      "outputs": [
        {
          "output_type": "stream",
          "name": "stdout",
          "text": [
            "Index(['A', 'B', 'C', 'D', 'E', 'F', 'G', 'H', 'I', 'J', 'EOP'], dtype='object', name='tasks')\n",
            "tasks         A         B         C         D         E         F         G  \\\n",
            "0      7.411103  5.332160  3.223660  2.911846  5.708150  2.147785  4.321253   \n",
            "1      7.863970  3.535453  2.590695  2.962372  7.270862  2.543204  6.956724   \n",
            "2      6.679156  4.815428  2.690360  2.798932  6.465163  2.197039  3.529675   \n",
            "3      7.672576  5.448812  4.179956  2.530532  6.753643  4.493330  3.933589   \n",
            "4      5.836446  5.169114  3.646755  2.737541  7.479835  1.864038  3.715159   \n",
            "..          ...       ...       ...       ...       ...       ...       ...   \n",
            "995    6.614042  4.160039  3.373866  2.666413  5.696750  3.835534  3.816758   \n",
            "996    6.823412  4.990746  3.066080  2.860252  7.433525  6.331847  3.169265   \n",
            "997    6.516042  5.620953  3.229084  2.382573  5.652749  2.372343  6.119675   \n",
            "998    5.151677  3.269340  2.673272  2.766752  6.613199  1.048803  7.341809   \n",
            "999    6.514174  5.454641  3.489990  2.724444  5.512500  5.444907  4.045855   \n",
            "\n",
            "tasks         H          I         J  EOP  \n",
            "0      2.835503   5.784770  2.668041  NaN  \n",
            "1      3.548236   7.513549  3.531126  NaN  \n",
            "2      2.964387  13.249571  2.806583  NaN  \n",
            "3      4.056360  20.883839  3.005449  NaN  \n",
            "4      1.396235   6.631810  2.594419  NaN  \n",
            "..          ...        ...       ...  ...  \n",
            "995    5.943567   8.014735  2.052100  NaN  \n",
            "996    4.298849  12.430662  2.768721  NaN  \n",
            "997    8.673302   9.780012  2.614495  NaN  \n",
            "998    8.813957   9.075087  2.512876  NaN  \n",
            "999    8.034039   9.840549  2.785870  NaN  \n",
            "\n",
            "[1000 rows x 11 columns]\n"
          ]
        }
      ]
    },
    {
      "cell_type": "markdown",
      "source": [
        "# New Section"
      ],
      "metadata": {
        "id": "fIOWtbAPc1Va"
      }
    },
    {
      "cell_type": "code",
      "source": [
        "paths=['ADEJ','BCDEJ','BCFGJ','BCFHJ','BI']\n",
        "pathsDF=pd.DataFrame(columns=paths)\n",
        "\n",
        "ADEJ = []\n",
        "BCDEJ=[]\n",
        "BCFGJ=[]\n",
        "BCFHJ=[]\n",
        "BI=[]\n",
        "\n",
        "\n",
        "\n",
        "for index,row in simulationDF.iterrows():\n",
        "  BCDEJ.append(row['B']+row['C']+row['D']+row['E']+row['J'])\n",
        "  BCFGJ.append(row['B']+row['C']+row['F']+row['G']+row['J'])\n",
        "  BCFHJ.append(row['B']+row['C']+row['F']+row['H']+row['J'])\n",
        "  BI.append(row['B']+row['I'])\n",
        "  ADEJ.append(row['A']+row['D']+row['E'] + row['J'])\n",
        "  \n",
        "\n",
        "\n",
        "pathsDF['ADEJ']=ADEJ\n",
        "pathsDF['BCDEJ']=BCDEJ\n",
        "pathsDF['BCFGJ']=BCFGJ\n",
        "pathsDF['BCFHJ']=BCFHJ\n",
        "pathsDF['BI']=BI\n",
        "print(pathsDF)\n",
        "\n",
        "\n",
        "\n",
        "\n"
      ],
      "metadata": {
        "colab": {
          "base_uri": "https://localhost:8080/"
        },
        "id": "3rp8bb81cVTx",
        "outputId": "84e4be0d-9ff1-48b6-b2fb-576f18d57806"
      },
      "execution_count": 22,
      "outputs": [
        {
          "output_type": "stream",
          "name": "stdout",
          "text": [
            "          ADEJ      BCDEJ      BCFGJ      BCFHJ         BI\n",
            "0    15.165156  17.905378  15.166199  13.207450  12.432415\n",
            "1    17.546465  17.410503  18.489536  13.829329  10.967098\n",
            "2    19.789267  20.036526  19.368935  19.943403  11.978834\n",
            "3    17.939081  19.947428  20.673395  21.468742  15.634327\n",
            "4    19.696617  21.082348  18.657732  20.872355  15.562619\n",
            "..         ...        ...        ...        ...        ...\n",
            "995  19.296997  20.399509  15.985999  13.797058  14.858324\n",
            "996  19.723719  21.207087  17.995876  18.733191  19.665136\n",
            "997  19.871216  21.233253  24.587688  18.130178  25.411713\n",
            "998  17.551376  18.471207  19.887781  18.401735  16.943808\n",
            "999  14.028718  18.274445  19.204037  14.727859  14.718645\n",
            "\n",
            "[1000 rows x 5 columns]\n"
          ]
        }
      ]
    },
    {
      "cell_type": "code",
      "source": [
        "pathsDF['Critical Path'] = pathsDF.idxmax(axis = 1)"
      ],
      "metadata": {
        "id": "8pT_lRAje-Y-"
      },
      "execution_count": 24,
      "outputs": []
    },
    {
      "cell_type": "code",
      "source": [
        "pathsDF['Critical Path'].value_counts().plot.bar()"
      ],
      "metadata": {
        "id": "PklSRXbNe-k4",
        "colab": {
          "base_uri": "https://localhost:8080/",
          "height": 303
        },
        "outputId": "04a90bc3-666e-452a-f2d8-122dd50d4596"
      },
      "execution_count": 27,
      "outputs": [
        {
          "output_type": "execute_result",
          "data": {
            "text/plain": [
              "<matplotlib.axes._subplots.AxesSubplot at 0x7fcc76abcb10>"
            ]
          },
          "metadata": {},
          "execution_count": 27
        },
        {
          "output_type": "display_data",
          "data": {
            "text/plain": [
              "<Figure size 432x288 with 1 Axes>"
            ],
            "image/png": "[encoded data removed]"
          },
          "metadata": {
            "needs_background": "light"
          }
        }
      ]
    }
  ]
}